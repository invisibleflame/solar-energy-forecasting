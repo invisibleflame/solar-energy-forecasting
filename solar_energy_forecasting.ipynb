{
  "nbformat": 4,
  "nbformat_minor": 0,
  "metadata": {
    "accelerator": "GPU",
    "colab": {
      "name": "solar energy forecasting",
      "provenance": [],
      "collapsed_sections": []
    },
    "kernelspec": {
      "display_name": "Python 3",
      "name": "python3"
    },
    "language_info": {
      "name": "python"
    }
  },
  "cells": [
    {
      "cell_type": "markdown",
      "metadata": {
        "id": "YyBfKzw1lAQI"
      },
      "source": [
        "### Here I am using two different models for the task, but the intital cells are for loading the data and processing it.\n"
      ]
    },
    {
      "cell_type": "code",
      "metadata": {
        "colab": {
          "base_uri": "https://localhost:8080/",
          "height": 309
        },
        "id": "r6LZhhdqmLT8",
        "outputId": "79f6cfe1-508a-4dc9-a8a0-7158b95492eb"
      },
      "source": [
        "import pandas as pd\n",
        "import numpy as np\n",
        "\n",
        "#to plot within notebook\n",
        "import matplotlib.pyplot as plt\n",
        "%matplotlib inline\n",
        "\n",
        "#setting figure size\n",
        "from matplotlib.pylab import rcParams\n",
        "rcParams['figure.figsize'] = 20,10\n",
        "\n",
        "#for normalizing data\n",
        "from sklearn.preprocessing import MinMaxScaler\n",
        "scaler = MinMaxScaler(feature_range=(0, 1))\n",
        "scaler1 = MinMaxScaler(feature_range=(0, 1))\n",
        "\n",
        "#read the file\n",
        "df = pd.read_csv('/content/drive/MyDrive/solar_model_dataset.csv')\n",
        "df.head()"
      ],
      "execution_count": null,
      "outputs": [
        {
          "output_type": "execute_result",
          "data": {
            "text/html": [
              "<div>\n",
              "<style scoped>\n",
              "    .dataframe tbody tr th:only-of-type {\n",
              "        vertical-align: middle;\n",
              "    }\n",
              "\n",
              "    .dataframe tbody tr th {\n",
              "        vertical-align: top;\n",
              "    }\n",
              "\n",
              "    .dataframe thead th {\n",
              "        text-align: right;\n",
              "    }\n",
              "</style>\n",
              "<table border=\"1\" class=\"dataframe\">\n",
              "  <thead>\n",
              "    <tr style=\"text-align: right;\">\n",
              "      <th></th>\n",
              "      <th>Timestamp</th>\n",
              "      <th>AirTemp</th>\n",
              "      <th>AlbedoDaily</th>\n",
              "      <th>Azimuth</th>\n",
              "      <th>CloudOpacity</th>\n",
              "      <th>DewpointTemp</th>\n",
              "      <th>DirectNormalRadiation</th>\n",
              "      <th>PrecipitableWater</th>\n",
              "      <th>RelativeHumidity</th>\n",
              "      <th>SnowDepth</th>\n",
              "      <th>SurfacePressure</th>\n",
              "      <th>WindDirection10m</th>\n",
              "      <th>WindSpeed10m</th>\n",
              "      <th>Zenith</th>\n",
              "      <th>Solar_Power_Generation</th>\n",
              "    </tr>\n",
              "  </thead>\n",
              "  <tbody>\n",
              "    <tr>\n",
              "      <th>0</th>\n",
              "      <td>2015-01-01T00:00:00Z</td>\n",
              "      <td>2.8</td>\n",
              "      <td>0.20</td>\n",
              "      <td>-5</td>\n",
              "      <td>0.0</td>\n",
              "      <td>1.0</td>\n",
              "      <td>0</td>\n",
              "      <td>7.6</td>\n",
              "      <td>87.9</td>\n",
              "      <td>0.3</td>\n",
              "      <td>1034.3</td>\n",
              "      <td>220</td>\n",
              "      <td>4.6</td>\n",
              "      <td>151</td>\n",
              "      <td>0.0</td>\n",
              "    </tr>\n",
              "    <tr>\n",
              "      <th>1</th>\n",
              "      <td>2015-01-01T00:15:00Z</td>\n",
              "      <td>2.7</td>\n",
              "      <td>0.17</td>\n",
              "      <td>-12</td>\n",
              "      <td>0.0</td>\n",
              "      <td>0.9</td>\n",
              "      <td>0</td>\n",
              "      <td>7.7</td>\n",
              "      <td>87.9</td>\n",
              "      <td>0.3</td>\n",
              "      <td>1034.3</td>\n",
              "      <td>219</td>\n",
              "      <td>4.6</td>\n",
              "      <td>151</td>\n",
              "      <td>0.0</td>\n",
              "    </tr>\n",
              "    <tr>\n",
              "      <th>2</th>\n",
              "      <td>2015-01-01T00:30:00Z</td>\n",
              "      <td>2.6</td>\n",
              "      <td>0.17</td>\n",
              "      <td>-19</td>\n",
              "      <td>0.0</td>\n",
              "      <td>0.8</td>\n",
              "      <td>0</td>\n",
              "      <td>7.8</td>\n",
              "      <td>87.8</td>\n",
              "      <td>0.3</td>\n",
              "      <td>1034.2</td>\n",
              "      <td>219</td>\n",
              "      <td>4.7</td>\n",
              "      <td>150</td>\n",
              "      <td>0.0</td>\n",
              "    </tr>\n",
              "    <tr>\n",
              "      <th>3</th>\n",
              "      <td>2015-01-01T00:45:00Z</td>\n",
              "      <td>2.5</td>\n",
              "      <td>0.17</td>\n",
              "      <td>-25</td>\n",
              "      <td>0.0</td>\n",
              "      <td>0.7</td>\n",
              "      <td>0</td>\n",
              "      <td>7.9</td>\n",
              "      <td>87.6</td>\n",
              "      <td>0.3</td>\n",
              "      <td>1034.2</td>\n",
              "      <td>219</td>\n",
              "      <td>4.7</td>\n",
              "      <td>149</td>\n",
              "      <td>0.0</td>\n",
              "    </tr>\n",
              "    <tr>\n",
              "      <th>4</th>\n",
              "      <td>2015-01-01T01:00:00Z</td>\n",
              "      <td>2.4</td>\n",
              "      <td>0.17</td>\n",
              "      <td>-31</td>\n",
              "      <td>0.0</td>\n",
              "      <td>0.6</td>\n",
              "      <td>0</td>\n",
              "      <td>8.0</td>\n",
              "      <td>87.5</td>\n",
              "      <td>0.3</td>\n",
              "      <td>1034.1</td>\n",
              "      <td>218</td>\n",
              "      <td>4.8</td>\n",
              "      <td>148</td>\n",
              "      <td>0.0</td>\n",
              "    </tr>\n",
              "  </tbody>\n",
              "</table>\n",
              "</div>"
            ],
            "text/plain": [
              "              Timestamp  AirTemp  ...  Zenith  Solar_Power_Generation\n",
              "0  2015-01-01T00:00:00Z      2.8  ...     151                     0.0\n",
              "1  2015-01-01T00:15:00Z      2.7  ...     151                     0.0\n",
              "2  2015-01-01T00:30:00Z      2.6  ...     150                     0.0\n",
              "3  2015-01-01T00:45:00Z      2.5  ...     149                     0.0\n",
              "4  2015-01-01T01:00:00Z      2.4  ...     148                     0.0\n",
              "\n",
              "[5 rows x 15 columns]"
            ]
          },
          "metadata": {
            "tags": []
          },
          "execution_count": 1
        }
      ]
    },
    {
      "cell_type": "code",
      "metadata": {
        "colab": {
          "base_uri": "https://localhost:8080/"
        },
        "id": "ErKMCa18sQeu",
        "outputId": "abf3257d-06fb-4257-f100-7ea7170140eb"
      },
      "source": [
        "scaled_data = scaler.fit_transform(df.iloc[:,1:14])  #normalising the values \n",
        "scaled_y=scaler1.fit_transform(df.iloc[:,14].values.reshape(-1,1))\n",
        "scaled_y"
      ],
      "execution_count": null,
      "outputs": [
        {
          "output_type": "execute_result",
          "data": {
            "text/plain": [
              "array([[0.],\n",
              "       [0.],\n",
              "       [0.],\n",
              "       ...,\n",
              "       [0.],\n",
              "       [0.],\n",
              "       [0.]])"
            ]
          },
          "metadata": {
            "tags": []
          },
          "execution_count": 2
        }
      ]
    },
    {
      "cell_type": "code",
      "metadata": {
        "colab": {
          "base_uri": "https://localhost:8080/"
        },
        "id": "Ryie1M6Svahw",
        "outputId": "52a89ec6-4df9-4ac2-854a-21df240421e8"
      },
      "source": [
        "#creating train test split\n",
        "train = scaled_data[0:int(0.8*len(scaled_data)),:]\n",
        "test = scaled_data[int(0.8*len(scaled_data)):,:]\n",
        "ytrain = scaled_y[0:int(0.8*len(scaled_y)),:]\n",
        "ytest = scaled_y[int(0.8*len(scaled_y)):,:]\n",
        "# ytest= scaler1.inverse_transform(ytest)\n",
        "train.shape"
      ],
      "execution_count": null,
      "outputs": [
        {
          "output_type": "execute_result",
          "data": {
            "text/plain": [
              "(163888, 13)"
            ]
          },
          "metadata": {
            "tags": []
          },
          "execution_count": 3
        }
      ]
    },
    {
      "cell_type": "markdown",
      "metadata": {
        "id": "9L5DcfW2eYHa"
      },
      "source": [
        "# Model 1\n",
        "Parameter based forecasting\n",
        "Takes the input of parameters from last 2 days and predict the solar power generation for the next day."
      ]
    },
    {
      "cell_type": "code",
      "metadata": {
        "colab": {
          "base_uri": "https://localhost:8080/"
        },
        "id": "j1FZxF8kbbVl",
        "outputId": "9d128855-e4a1-4d8b-ad09-37e2eb72ceda"
      },
      "source": [
        "#preparing the time series data for training\n",
        "x_train, y_train = [], []\n",
        "for i in range(192,len(train)-96):\n",
        "    x_train.append(train[i-192:i,:])\n",
        "    y_train.append(ytrain[i:i+96])\n",
        "x_train, y_train = np.array(x_train), np.array(y_train)\n",
        "print(x_train.shape)\n",
        "print(y_train.shape)"
      ],
      "execution_count": null,
      "outputs": [
        {
          "output_type": "stream",
          "text": [
            "(163600, 192, 13)\n",
            "(163600, 96, 1)\n"
          ],
          "name": "stdout"
        }
      ]
    },
    {
      "cell_type": "code",
      "metadata": {
        "colab": {
          "base_uri": "https://localhost:8080/"
        },
        "id": "_o-cc0KkJThw",
        "outputId": "b801c88f-c655-4808-93da-729da656575a"
      },
      "source": [
        "#building the LSTM model\n",
        "from keras.models import Sequential\n",
        "from keras.layers import Dense, Dropout, LSTM, ReLU\n",
        "\n",
        "model = Sequential()\n",
        "model.add(LSTM(50, return_sequences=True, input_shape= (x_train.shape[1], 13)))\n",
        "model.add(LSTM(50, return_sequences= True))\n",
        "model.add(LSTM(50, return_sequences= False))\n",
        "model.add(Dense(192))\n",
        "model.add(ReLU())\n",
        "model.add(Dense(96))\n",
        "model.add(ReLU())\n",
        "\n",
        "model.compile(loss='mean_squared_error', optimizer='adam', metrics='mse')\n",
        "model.fit(x_train, y_train, epochs=1, batch_size=32) #if trained for more epochs callback can be used callbacks=[keras.callbacks.EarlyStopping(patience=10)])"
      ],
      "execution_count": null,
      "outputs": [
        {
          "output_type": "stream",
          "text": [
            "5113/5113 [==============================] - 124s 24ms/step - loss: 0.0148 - mse: 0.0148\n"
          ],
          "name": "stdout"
        },
        {
          "output_type": "execute_result",
          "data": {
            "text/plain": [
              "<tensorflow.python.keras.callbacks.History at 0x7fb9004d9250>"
            ]
          },
          "metadata": {
            "tags": []
          },
          "execution_count": 52
        }
      ]
    },
    {
      "cell_type": "code",
      "metadata": {
        "colab": {
          "base_uri": "https://localhost:8080/"
        },
        "id": "TRfPbWxyn6b9",
        "outputId": "9b9f6c03-24dc-4c75-ab3c-8c21c901aabe"
      },
      "source": [
        "#preparing the time series data for testing\n",
        "x_test, y_test = [], []\n",
        "for i in range(192,len(test)-96):\n",
        "    x_test.append(test[i-192:i,:])\n",
        "    y_test.append(ytest[i:i+96])\n",
        "x_test, y_test = np.array(x_test), np.array(y_test)\n",
        "print(x_test.shape)\n",
        "print(y_test.shape)"
      ],
      "execution_count": null,
      "outputs": [
        {
          "output_type": "stream",
          "text": [
            "(40684, 192, 13)\n",
            "(40684, 96, 1)\n"
          ],
          "name": "stdout"
        }
      ]
    },
    {
      "cell_type": "code",
      "metadata": {
        "id": "xjCnvyterbKt"
      },
      "source": [
        "prediction=model.predict(x_test) #making predictions on test data"
      ],
      "execution_count": null,
      "outputs": []
    },
    {
      "cell_type": "code",
      "metadata": {
        "colab": {
          "base_uri": "https://localhost:8080/"
        },
        "id": "7qoTzpjPWRdF",
        "outputId": "8db863bb-877d-44e7-96da-f7fc26e50071"
      },
      "source": [
        "#calculating the root mean squared error between predictions and the actual values\n",
        "y_test=y_test.reshape(y_test.shape[0],y_test.shape[1])\n",
        "rms=np.sqrt(np.mean(np.power((y_test-prediction),2)))\n",
        "rms"
      ],
      "execution_count": null,
      "outputs": [
        {
          "output_type": "execute_result",
          "data": {
            "text/plain": [
              "0.09714291044082474"
            ]
          },
          "metadata": {
            "tags": []
          },
          "execution_count": 55
        }
      ]
    },
    {
      "cell_type": "code",
      "metadata": {
        "colab": {
          "base_uri": "https://localhost:8080/"
        },
        "id": "e71Xm8O6ahNv",
        "outputId": "4bb1d371-687e-465d-90e9-122c33757450"
      },
      "source": [
        "#forecasting the solar power generation for the next 24 hours\n",
        "forecast=model.predict(np.array([test[-192:,:]]))\n",
        "forecast=scaler1.inverse_transform(forecast)\n",
        "print(forecast)"
      ],
      "execution_count": null,
      "outputs": [
        {
          "output_type": "stream",
          "text": [
            "[[ 0.         0.         0.         0.         0.         0.\n",
            "   0.         0.         0.         0.         0.         0.\n",
            "   0.         0.         0.         0.         0.         0.\n",
            "   0.         0.         0.         0.         0.         0.\n",
            "   0.         0.         0.         0.         0.         0.\n",
            "   0.         0.         2.564189   5.748723   9.518462  12.331238\n",
            "  14.320408  18.089228  20.009642  21.731253  23.230207  27.896597\n",
            "  29.170609  33.05925   34.682213  35.21967   38.865894  39.910507\n",
            "  40.7776    39.93124   38.025898  38.998367  37.850937  38.77511\n",
            "   0.        36.972263  34.48723   33.991745  32.231155  27.483183\n",
            "  26.307861  21.065113  19.762806  17.3277    14.834235  11.916351\n",
            "   8.664635   5.5094337  0.         2.0833364  0.         0.\n",
            "   0.         0.         0.         0.         0.         0.\n",
            "   0.         0.         0.         0.         0.         0.\n",
            "   0.         0.         0.         0.         0.         0.\n",
            "   0.         0.         0.         0.         0.         0.       ]]\n"
          ],
          "name": "stdout"
        }
      ]
    },
    {
      "cell_type": "markdown",
      "metadata": {
        "id": "8gnV1Jy-MoY0"
      },
      "source": [
        "# Model2\n",
        "History data based forecasting, takes input of solar power generation from last 2 days and predicts for next 1 day. Another variant of this can be the model in which we predict only for the next 15 mins and then append that to our data and predict for 15 mins after that and so on."
      ]
    },
    {
      "cell_type": "code",
      "metadata": {
        "colab": {
          "base_uri": "https://localhost:8080/"
        },
        "id": "VG5EAdrmO6Qj",
        "outputId": "7601ea51-a5df-43bb-aec6-6f1ed554bff1"
      },
      "source": [
        "#preparing train data\n",
        "xtrain, y1train = [], []\n",
        "for i in range(192,len(train)-96):\n",
        "    xtrain.append(ytrain[i-192:i])\n",
        "    y1train.append(ytrain[i:i+96])\n",
        "xtrain, y1train = np.array(xtrain), np.array(y1train)\n",
        "print(xtrain.shape)\n",
        "print(y1train.shape)"
      ],
      "execution_count": null,
      "outputs": [
        {
          "output_type": "stream",
          "text": [
            "(163600, 192, 1)\n",
            "(163600, 96, 1)\n"
          ],
          "name": "stdout"
        }
      ]
    },
    {
      "cell_type": "code",
      "metadata": {
        "id": "-HDaBzWxty9x",
        "colab": {
          "base_uri": "https://localhost:8080/"
        },
        "outputId": "08671a0c-fe21-4be4-eff8-2130bb94ceb2"
      },
      "source": [
        "#building the model\n",
        "from keras.models import Sequential\n",
        "from keras.layers import Dense, Dropout, LSTM, ReLU\n",
        "\n",
        "model2 = Sequential()\n",
        "model2.add(LSTM(50, return_sequences=True, input_shape= (xtrain.shape[1], 1)))\n",
        "# model.add(LSTM(50, return_sequences= True))\n",
        "model2.add(LSTM(50, return_sequences= False))\n",
        "model2.add(Dense(192))\n",
        "model2.add(ReLU())\n",
        "model2.add(Dense(96))\n",
        "model2.add(ReLU())\n",
        "\n",
        "\n",
        "model2.compile(loss='mean_squared_error', optimizer='adam', metrics='mse')\n",
        "model2.fit(xtrain, y1train, epochs=1, batch_size=32)"
      ],
      "execution_count": null,
      "outputs": [
        {
          "output_type": "stream",
          "text": [
            "5113/5113 [==============================] - 85s 16ms/step - loss: 0.0168 - mse: 0.0168\n"
          ],
          "name": "stdout"
        },
        {
          "output_type": "execute_result",
          "data": {
            "text/plain": [
              "<tensorflow.python.keras.callbacks.History at 0x7fb82c0e3cd0>"
            ]
          },
          "metadata": {
            "tags": []
          },
          "execution_count": 22
        }
      ]
    },
    {
      "cell_type": "code",
      "metadata": {
        "id": "IZq2gl-cvJZ-",
        "colab": {
          "base_uri": "https://localhost:8080/"
        },
        "outputId": "d854f120-8d39-4e9a-d4a9-8b0de5a1bb25"
      },
      "source": [
        "#preparing the test dataset\n",
        "xtest, y1test = [], []\n",
        "for i in range(192,len(test)-96):\n",
        "    xtest.append(ytest[i-192:i])\n",
        "    y1test.append(ytest[i:i+96])\n",
        "xtest, y1test = np.array(xtest), np.array(y1test)\n",
        "print(xtest.shape)\n",
        "print(y1test.shape)"
      ],
      "execution_count": null,
      "outputs": [
        {
          "output_type": "stream",
          "text": [
            "(40684, 192, 1)\n",
            "(40684, 96, 1)\n"
          ],
          "name": "stdout"
        }
      ]
    },
    {
      "cell_type": "code",
      "metadata": {
        "id": "pO4E518sSRR3"
      },
      "source": [
        "prediction=model2.predict(xtest) #making predictions"
      ],
      "execution_count": null,
      "outputs": []
    },
    {
      "cell_type": "code",
      "metadata": {
        "colab": {
          "base_uri": "https://localhost:8080/"
        },
        "id": "IVtTYS-DSaZk",
        "outputId": "a806b25d-0378-4a63-e6bf-7517b3dd7d87"
      },
      "source": [
        "print(y1test.shape) #some debugging tests\n",
        "print(prediction.shape)"
      ],
      "execution_count": null,
      "outputs": [
        {
          "output_type": "stream",
          "text": [
            "(40684, 96, 1)\n",
            "(40684, 96)\n"
          ],
          "name": "stdout"
        }
      ]
    },
    {
      "cell_type": "code",
      "metadata": {
        "colab": {
          "base_uri": "https://localhost:8080/"
        },
        "id": "WFxaQ7TmSSDx",
        "outputId": "93293e13-6202-4f26-dc17-1b32635188c0"
      },
      "source": [
        "y1test= y1test.reshape(y1test.shape[0],y1test.shape[1])\n",
        "rms=np.sqrt(np.mean(np.power((y1test-prediction),2)))  #calculating the loss for the predictions\n",
        "rms"
      ],
      "execution_count": null,
      "outputs": [
        {
          "output_type": "execute_result",
          "data": {
            "text/plain": [
              "0.10623040738199438"
            ]
          },
          "metadata": {
            "tags": []
          },
          "execution_count": 37
        }
      ]
    },
    {
      "cell_type": "code",
      "metadata": {
        "colab": {
          "base_uri": "https://localhost:8080/"
        },
        "id": "tdWmKmh9SpOg",
        "outputId": "b44f8c29-5588-4d3f-bb5b-110354a5e678"
      },
      "source": [
        "#forecasting the solar power generation for the next 24 hrs\n",
        "foredata=np.array([ytest[-192:]])\n",
        "forecast=model2.predict(foredata)\n",
        "forecast=scaler1.inverse_transform(forecast)\n",
        "print(forecast)"
      ],
      "execution_count": null,
      "outputs": [
        {
          "output_type": "stream",
          "text": [
            "[[ 0.         0.         0.         0.         0.         0.\n",
            "   0.         0.         0.         0.         0.         0.\n",
            "   0.         0.         0.         0.         0.         0.\n",
            "   0.         0.         0.         0.         0.         0.\n",
            "   0.         0.         0.         0.         0.         0.\n",
            "   0.         0.         0.         1.324135   3.7964268 10.036081\n",
            "  12.316438  14.740722  15.368683  19.079046  18.99979   22.794144\n",
            "  25.54299   27.17182   28.971144  30.664906  31.674856  32.082653\n",
            "  34.469376  34.07136   35.18015   35.019726  35.168766   0.\n",
            "  31.227448  30.06948   29.072035  27.85802   26.656427  24.597036\n",
            "   0.        18.512266  15.485842  13.158164   9.600448   7.314781\n",
            "   4.335289   0.         0.         0.         0.         0.\n",
            "   0.         0.         0.         0.         0.         0.\n",
            "   0.         0.         0.         0.         0.         0.\n",
            "   0.         0.         0.         0.         0.         0.\n",
            "   0.         0.         0.         0.         0.         0.       ]]\n"
          ],
          "name": "stdout"
        }
      ]
    },
    {
      "cell_type": "code",
      "metadata": {
        "id": "-cSO_4fvlnfc"
      },
      "source": [
        ""
      ],
      "execution_count": null,
      "outputs": []
    }
  ]
}